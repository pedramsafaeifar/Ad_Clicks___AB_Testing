{
 "cells": [
  {
   "cell_type": "code",
   "execution_count": 1,
   "metadata": {},
   "outputs": [],
   "source": [
    "import pandas as pd\n",
    "\n",
    "ad_clicks = pd.read_csv(r'C:\\Users\\Pedram\\Documents\\GitHub\\Ad_Clicks___AB_Testing\\ad_clicks.txt')\n",
    "\n",
    "def display_as_percentage(val):\n",
    "  return '{:.1}%'.format(val * 100)\n"
   ]
  },
  {
   "cell_type": "code",
   "execution_count": 8,
   "metadata": {},
   "outputs": [],
   "source": [
    "import numpy as np\n",
    "import seaborn as sns\n",
    "import statsmodels\n",
    "import matplotlib.pyplot as plt\n",
    "import math\n",
    "import statistics"
   ]
  },
  {
   "cell_type": "markdown",
   "metadata": {},
   "source": [
    "## Examining the First Few Rows of ad_clicks"
   ]
  },
  {
   "cell_type": "code",
   "execution_count": 45,
   "metadata": {},
   "outputs": [
    {
     "name": "stdout",
     "output_type": "stream",
     "text": [
      "<class 'pandas.core.frame.DataFrame'>\n",
      "RangeIndex: 1654 entries, 0 to 1653\n",
      "Data columns (total 6 columns):\n",
      " #   Column              Non-Null Count  Dtype \n",
      "---  ------              --------------  ----- \n",
      " 0   user_id             1654 non-null   object\n",
      " 1   utm_source          1654 non-null   object\n",
      " 2   day                 1654 non-null   object\n",
      " 3   ad_click_timestamp  565 non-null    object\n",
      " 4   experimental_group  1654 non-null   object\n",
      " 5   is_click            1654 non-null   bool  \n",
      "dtypes: bool(1), object(5)\n",
      "memory usage: 66.3+ KB\n"
     ]
    }
   ],
   "source": [
    "ad_clicks.info()"
   ]
  },
  {
   "cell_type": "code",
   "execution_count": 47,
   "metadata": {},
   "outputs": [
    {
     "name": "stdout",
     "output_type": "stream",
     "text": [
      "user_id               1654\n",
      "utm_source               4\n",
      "day                      7\n",
      "ad_click_timestamp     464\n",
      "experimental_group       2\n",
      "is_click                 2\n",
      "dtype: int64\n"
     ]
    }
   ],
   "source": [
    "# Overview of unique values in teh dataframe\n",
    "print(ad_clicks.nunique())"
   ]
  },
  {
   "cell_type": "code",
   "execution_count": 2,
   "metadata": {},
   "outputs": [
    {
     "name": "stdout",
     "output_type": "stream",
     "text": [
      "                                user_id utm_source           day  \\\n",
      "0  008b7c6c-7272-471e-b90e-930d548bd8d7     google  6 - Saturday   \n",
      "1  009abb94-5e14-4b6c-bb1c-4f4df7aa7557   facebook    7 - Sunday   \n",
      "2  00f5d532-ed58-4570-b6d2-768df5f41aed    twitter   2 - Tuesday   \n",
      "3  011adc64-0f44-4fd9-a0bb-f1506d2ad439     google   2 - Tuesday   \n",
      "4  012137e6-7ae7-4649-af68-205b4702169c   facebook    7 - Sunday   \n",
      "\n",
      "  ad_click_timestamp experimental_group  \n",
      "0               7:18                  A  \n",
      "1                NaN                  B  \n",
      "2                NaN                  A  \n",
      "3                NaN                  B  \n",
      "4                NaN                  B  \n"
     ]
    }
   ],
   "source": [
    "print(ad_clicks.head(5))"
   ]
  },
  {
   "cell_type": "markdown",
   "metadata": {},
   "source": [
    "##  Which Ad Platform is Getting the Company the Most Views?\n",
    "How many views (i.e., rows of the table) came from each 'utm_source'?"
   ]
  },
  {
   "cell_type": "code",
   "execution_count": 33,
   "metadata": {},
   "outputs": [
    {
     "name": "stderr",
     "output_type": "stream",
     "text": [
      "C:\\ProgramData\\Anaconda3\\lib\\site-packages\\seaborn\\_decorators.py:36: FutureWarning: Pass the following variable as a keyword arg: x. From version 0.12, the only valid positional argument will be `data`, and passing other arguments without an explicit keyword will result in an error or misinterpretation.\n",
      "  warnings.warn(\n"
     ]
    },
    {
     "data": {
      "image/png": "[encoded data removed]",
      "text/plain": [
       "<Figure size 432x288 with 1 Axes>"
      ]
     },
     "metadata": {
      "needs_background": "light"
     },
     "output_type": "display_data"
    }
   ],
   "source": [
    "# A bar plot to check the 'utm_source' values\n",
    "sns.countplot(ad_clicks['utm_source'], order = ad_clicks['utm_source'].value_counts().index)\n",
    "plt.title('Number of Views based on Source')\n",
    "plt.xlabel('Source')\n",
    "plt.ylabel('Number of Views')\n",
    "plt.xticks(rotation=30) #rotate your labels along the x-axis to make sure they are visible. For it to work, be sure to call .countplot() above it.\n",
    "plt.show()"
   ]
  },
  {
   "cell_type": "code",
   "execution_count": 6,
   "metadata": {},
   "outputs": [
    {
     "data": {
      "text/html": [
       "<div>\n",
       "<style scoped>\n",
       "    .dataframe tbody tr th:only-of-type {\n",
       "        vertical-align: middle;\n",
       "    }\n",
       "\n",
       "    .dataframe tbody tr th {\n",
       "        vertical-align: top;\n",
       "    }\n",
       "\n",
       "    .dataframe thead th {\n",
       "        text-align: right;\n",
       "    }\n",
       "</style>\n",
       "<table border=\"1\" class=\"dataframe\">\n",
       "  <thead>\n",
       "    <tr style=\"text-align: right;\">\n",
       "      <th></th>\n",
       "      <th>utm_source</th>\n",
       "      <th>user_id</th>\n",
       "    </tr>\n",
       "  </thead>\n",
       "  <tbody>\n",
       "    <tr>\n",
       "      <th>0</th>\n",
       "      <td>email</td>\n",
       "      <td>255</td>\n",
       "    </tr>\n",
       "    <tr>\n",
       "      <th>1</th>\n",
       "      <td>facebook</td>\n",
       "      <td>504</td>\n",
       "    </tr>\n",
       "    <tr>\n",
       "      <th>2</th>\n",
       "      <td>google</td>\n",
       "      <td>680</td>\n",
       "    </tr>\n",
       "    <tr>\n",
       "      <th>3</th>\n",
       "      <td>twitter</td>\n",
       "      <td>215</td>\n",
       "    </tr>\n",
       "  </tbody>\n",
       "</table>\n",
       "</div>"
      ],
      "text/plain": [
       "  utm_source  user_id\n",
       "0      email      255\n",
       "1   facebook      504\n",
       "2     google      680\n",
       "3    twitter      215"
      ]
     },
     "execution_count": 6,
     "metadata": {},
     "output_type": "execute_result"
    }
   ],
   "source": [
    "ad_clicks\\\n",
    "    .groupby('utm_source')\\\n",
    "    .user_id.count()\\\n",
    "    .reset_index()"
   ]
  },
  {
   "cell_type": "markdown",
   "metadata": {},
   "source": [
    "## Create New Column called 'is_click'\n",
    "If the column ad_click_timestamp is not null, then someone actually clicked on the ad that was displayed.\n",
    "Create a new column called 'is_click', which is True if 'ad_click_timestamp' is not null and False otherwise.\n",
    " "
   ]
  },
  {
   "cell_type": "code",
   "execution_count": 28,
   "metadata": {},
   "outputs": [
    {
     "name": "stdout",
     "output_type": "stream",
     "text": [
      "                                user_id utm_source           day  \\\n",
      "0  008b7c6c-7272-471e-b90e-930d548bd8d7     google  6 - Saturday   \n",
      "1  009abb94-5e14-4b6c-bb1c-4f4df7aa7557   facebook    7 - Sunday   \n",
      "2  00f5d532-ed58-4570-b6d2-768df5f41aed    twitter   2 - Tuesday   \n",
      "3  011adc64-0f44-4fd9-a0bb-f1506d2ad439     google   2 - Tuesday   \n",
      "4  012137e6-7ae7-4649-af68-205b4702169c   facebook    7 - Sunday   \n",
      "\n",
      "  ad_click_timestamp experimental_group  is_click  \n",
      "0               7:18                  A      True  \n",
      "1                NaN                  B     False  \n",
      "2                NaN                  A     False  \n",
      "3                NaN                  B     False  \n",
      "4                NaN                  B     False  \n"
     ]
    }
   ],
   "source": [
    "ad_clicks['is_click'] = ad_clicks\\\n",
    "    .ad_click_timestamp\\\n",
    "    .notnull()\n",
    "print(ad_clicks.head())"
   ]
  },
  {
   "cell_type": "markdown",
   "metadata": {},
   "source": [
    "## Percentage of People who Clicked on ads from Each Source\n",
    "The objective is to determine the percentage of individuals who clicked on ads for each utm_source. To achieve this, we will begin by grouping the data based on utm_source and is_click, then calculate the count of user_id's in each group. The resulting outcome will be stored in the variable called \"clicks_by_source.\""
   ]
  },
  {
   "cell_type": "code",
   "execution_count": 30,
   "metadata": {},
   "outputs": [
    {
     "name": "stdout",
     "output_type": "stream",
     "text": [
      "  utm_source  is_click  user_id\n",
      "0      email     False      175\n",
      "1      email      True       80\n",
      "2   facebook     False      324\n",
      "3   facebook      True      180\n",
      "4     google     False      441\n",
      "5     google      True      239\n",
      "6    twitter     False      149\n",
      "7    twitter      True       66\n"
     ]
    }
   ],
   "source": [
    "clicks_by_source = ad_clicks\\\n",
    "  .groupby(['utm_source', 'is_click'])\\\n",
    "  .user_id.count()\\\n",
    "  .reset_index()\n",
    " \n",
    "print(clicks_by_source)"
   ]
  },
  {
   "cell_type": "markdown",
   "metadata": {},
   "source": [
    "## Create Clicks Pivot Table \n",
    "The data will be pivoted, having \"is_click\" as columns (either True or False), \"utm_source\" as the index, and \"user_id\" as the values. The resulting pivot table will be saved in the variable named \"clicks_pivot.\""
   ]
  },
  {
   "cell_type": "code",
   "execution_count": 31,
   "metadata": {},
   "outputs": [
    {
     "name": "stdout",
     "output_type": "stream",
     "text": [
      "is_click utm_source  False  True\n",
      "0             email    175    80\n",
      "1          facebook    324   180\n",
      "2            google    441   239\n",
      "3           twitter    149    66\n"
     ]
    }
   ],
   "source": [
    "clicks_pivot = clicks_by_source\\\n",
    "  .pivot(\n",
    "   columns='is_click',\n",
    "   index='utm_source',\n",
    "   values='user_id'\n",
    "  ).reset_index()\n",
    "print(clicks_pivot)"
   ]
  },
  {
   "cell_type": "markdown",
   "metadata": {},
   "source": [
    "## Adding Percent Clicked Column in Clicks Pivot Table\n",
    "A new column called \"percent_clicked\" will be created in clicks_pivot, representing the percentage of users who clicked on the ad from each utm_source. \n",
    "The click rates for each source will be compared to determine if there was any difference.\n"
   ]
  },
  {
   "cell_type": "code",
   "execution_count": 42,
   "metadata": {},
   "outputs": [
    {
     "name": "stdout",
     "output_type": "stream",
     "text": [
      "is_click utm_source  False  True  percent_clicked\n",
      "0             email    175    80         0.313725\n",
      "1          facebook    324   180         0.357143\n",
      "2            google    441   239         0.351471\n",
      "3           twitter    149    66         0.306977\n"
     ]
    }
   ],
   "source": [
    "clicks_pivot['percent_clicked'] = clicks_pivot[True] /(clicks_pivot[True] + \n",
    "clicks_pivot[False])\n",
    "print(clicks_pivot)"
   ]
  },
  {
   "cell_type": "code",
   "execution_count": 51,
   "metadata": {},
   "outputs": [],
   "source": [
    "# Sort the df by 'percent_clicked' in ascending order\n",
    "clicks_pivot_sorted = clicks_pivot.sort_values(by='percent_clicked')"
   ]
  },
  {
   "cell_type": "code",
   "execution_count": 62,
   "metadata": {},
   "outputs": [
    {
     "data": {
      "image/png": "[encoded data removed]",
      "text/plain": [
       "<Figure size 216x432 with 1 Axes>"
      ]
     },
     "metadata": {
      "needs_background": "light"
     },
     "output_type": "display_data"
    },
    {
     "data": {
      "text/plain": [
       "<Figure size 432x288 with 0 Axes>"
      ]
     },
     "metadata": {},
     "output_type": "display_data"
    }
   ],
   "source": [
    "plt.figure(figsize=(3, 6))\n",
    "sns.barplot(x='utm_source', y='percent_clicked', data=clicks_pivot_sorted)\n",
    "\n",
    "# Set labels and title\n",
    "plt.xlabel('utm_source')\n",
    "plt.ylabel('Percent Clicked')\n",
    "plt.title('Percentage of People who Clicked on Ads from Each Source')\n",
    "plt.show()\n",
    "plt.clf()"
   ]
  },
  {
   "cell_type": "markdown",
   "metadata": {},
   "source": [
    "As can be observed in this bar plot, in general, the ad on Facebook showed a higher conversion rate compared to other utm sources in this marketing campaign."
   ]
  },
  {
   "cell_type": "markdown",
   "metadata": {},
   "source": [
    "## Number of People Showed Each Ad\n",
    "Ad A or Ad B was shown to the users based on the \"experimental_group\" column.\n",
    "It is evident that both ads had been exposed to an equal number of audiences."
   ]
  },
  {
   "cell_type": "code",
   "execution_count": 43,
   "metadata": {
    "scrolled": true
   },
   "outputs": [
    {
     "name": "stdout",
     "output_type": "stream",
     "text": [
      "  experimental_group  user_id\n",
      "0                  A      827\n",
      "1                  B      827\n"
     ]
    }
   ],
   "source": [
    "print(ad_clicks\\\n",
    "  .groupby('experimental_group').user_id\\\n",
    "  .count()\\\n",
    "  .reset_index()\n",
    ")"
   ]
  },
  {
   "cell_type": "markdown",
   "metadata": {},
   "source": [
    "## Number of Users that Clicked on Each Ad\n",
    "Using the column is_click that we defined earlier, check to see if a greater percentage of users clicked on Ad A or Ad B."
   ]
  },
  {
   "cell_type": "code",
   "execution_count": 44,
   "metadata": {
    "scrolled": true
   },
   "outputs": [
    {
     "name": "stdout",
     "output_type": "stream",
     "text": [
      "is_click experimental_group  False  True  percent_clicked\n",
      "0                         A    517   310         0.374849\n",
      "1                         B    572   255         0.308343\n"
     ]
    }
   ],
   "source": [
    "ad_clicks_pivot = ad_clicks\\\n",
    "  .groupby(['experimental_group', 'is_click']).user_id\\\n",
    "  .count()\\\n",
    "  .reset_index()\\\n",
    "  .pivot(\n",
    "    index = 'experimental_group',\n",
    "    columns = 'is_click',\n",
    "    values = 'user_id'\n",
    "  )\\\n",
    "  .reset_index()\n",
    "\n",
    "ad_clicks_pivot['percent_clicked']= ad_clicks_pivot[True]\\\n",
    "    /(ad_clicks_pivot[True] + ad_clicks_pivot[False]) \n",
    "print(ad_clicks_pivot)"
   ]
  },
  {
   "cell_type": "code",
   "execution_count": 64,
   "metadata": {},
   "outputs": [
    {
     "data": {
      "image/png": "[encoded data removed]",
      "text/plain": [
       "<Figure size 432x288 with 1 Axes>"
      ]
     },
     "metadata": {},
     "output_type": "display_data"
    },
    {
     "data": {
      "text/plain": [
       "<Figure size 432x288 with 0 Axes>"
      ]
     },
     "metadata": {},
     "output_type": "display_data"
    }
   ],
   "source": [
    "# A pie chart for comparison\n",
    "wedge_sizes = ad_clicks_pivot.percent_clicked\n",
    "wedge_labels = ad_clicks_pivot.experimental_group\n",
    "\n",
    "plt.pie(wedge_sizes, labels = wedge_labels, autopct='%1.1f%%')\n",
    "plt.axis('equal')\n",
    "plt.show()\n",
    "plt.clf()"
   ]
  },
  {
   "cell_type": "markdown",
   "metadata": {},
   "source": [
    "It is evident that in this experiment, in general, 'A' had a higher performance in case of click percentage. "
   ]
  },
  {
   "cell_type": "markdown",
   "metadata": {},
   "source": [
    "## Does the Number of Clicks on Each Ad Change Throughout the Week? ##\n",
    "Start by creating two DataFrames: a_clicks and b_clicks, which contain only the results for A group and B group, respectively."
   ]
  },
  {
   "cell_type": "code",
   "execution_count": 68,
   "metadata": {},
   "outputs": [],
   "source": [
    "a_clicks = ad_clicks[ad_clicks.experimental_group == 'A']\n",
    "b_clicks = ad_clicks[ad_clicks.experimental_group == 'B']"
   ]
  },
  {
   "cell_type": "code",
   "execution_count": 69,
   "metadata": {},
   "outputs": [
    {
     "name": "stdout",
     "output_type": "stream",
     "text": [
      "                                user_id utm_source            day  \\\n",
      "0  008b7c6c-7272-471e-b90e-930d548bd8d7     google   6 - Saturday   \n",
      "2  00f5d532-ed58-4570-b6d2-768df5f41aed    twitter    2 - Tuesday   \n",
      "5  013b0072-7b72-40e7-b698-98b4d0c9967f   facebook     1 - Monday   \n",
      "6  0153d85b-7660-4c39-92eb-1e1acd023280     google   4 - Thursday   \n",
      "7  01555297-d6e6-49ae-aeba-1b196fdbb09f     google  3 - Wednesday   \n",
      "\n",
      "  ad_click_timestamp experimental_group  is_click  \n",
      "0               7:18                  A      True  \n",
      "2                NaN                  A     False  \n",
      "5                NaN                  A     False  \n",
      "6                NaN                  A     False  \n",
      "7                NaN                  A     False  \n"
     ]
    }
   ],
   "source": [
    "print(a_clicks.head())"
   ]
  },
  {
   "cell_type": "markdown",
   "metadata": {},
   "source": [
    "## Percentage of Users Who Clicked on the Ad by Day\n",
    "For each group (a_clicks and b_clicks), calculate the percent of users who clicked on the ad by day.\n"
   ]
  },
  {
   "cell_type": "markdown",
   "metadata": {},
   "source": [
    "## Ad A:"
   ]
  },
  {
   "cell_type": "code",
   "execution_count": 79,
   "metadata": {},
   "outputs": [
    {
     "name": "stdout",
     "output_type": "stream",
     "text": [
      "is_click            day  False  True  percent_clicked\n",
      "0            1 - Monday     70    43         0.380531\n",
      "1           2 - Tuesday     76    43         0.361345\n",
      "2         3 - Wednesday     86    38         0.306452\n",
      "3          4 - Thursday     69    47         0.405172\n",
      "4            5 - Friday     77    51         0.398438\n",
      "5          6 - Saturday     73    45         0.381356\n",
      "6            7 - Sunday     66    43         0.394495\n"
     ]
    }
   ],
   "source": [
    "a_clicks_pivot = a_clicks\\\n",
    ".groupby(['is_click', 'day']).user_id\\\n",
    ".count()\\\n",
    ".reset_index()\\\n",
    ".pivot(\n",
    "  index = 'day',\n",
    "  columns = 'is_click',\n",
    "  values = 'user_id'\n",
    ")\\\n",
    ".reset_index()\\\n",
    " \n",
    "a_clicks_pivot['percent_clicked'] = a_clicks_pivot[True] / (a_clicks_pivot[True] + a_clicks_pivot[False]) \n",
    " \n",
    "print(a_clicks_pivot)"
   ]
  },
  {
   "cell_type": "markdown",
   "metadata": {},
   "source": [
    "## Ad B:"
   ]
  },
  {
   "cell_type": "code",
   "execution_count": 85,
   "metadata": {
    "scrolled": true
   },
   "outputs": [
    {
     "name": "stdout",
     "output_type": "stream",
     "text": [
      "is_click            day  False  True  percent_clicked\n",
      "0            1 - Monday     81    32         0.283186\n",
      "1           2 - Tuesday     74    45         0.378151\n",
      "2         3 - Wednesday     89    35         0.282258\n",
      "3          4 - Thursday     87    29         0.250000\n",
      "4            5 - Friday     90    38         0.296875\n",
      "5          6 - Saturday     76    42         0.355932\n",
      "6            7 - Sunday     75    34         0.311927\n"
     ]
    }
   ],
   "source": [
    "b_clicks_pivot = b_clicks\\\n",
    "  .groupby(['is_click', 'day']).user_id\\\n",
    "  .count()\\\n",
    "  .reset_index()\\\n",
    "  .pivot(\n",
    "    index = 'day',\n",
    "    columns = 'is_click',\n",
    "    values = 'user_id'\n",
    "  )\\\n",
    "  .reset_index()\n",
    " \n",
    "b_clicks_pivot['percent_clicked'] = b_clicks_pivot[True] / (b_clicks_pivot[True] + b_clicks_pivot[False])\n",
    " \n",
    "print(b_clicks_pivot)\n"
   ]
  },
  {
   "cell_type": "code",
   "execution_count": 86,
   "metadata": {},
   "outputs": [
    {
     "name": "stdout",
     "output_type": "stream",
     "text": [
      "             day         A         B\n",
      "0     1 - Monday  0.380531  0.283186\n",
      "1    2 - Tuesday  0.361345  0.378151\n",
      "2  3 - Wednesday  0.306452  0.282258\n",
      "3   4 - Thursday  0.405172  0.250000\n",
      "4     5 - Friday  0.398438  0.296875\n",
      "5   6 - Saturday  0.381356  0.355932\n",
      "6     7 - Sunday  0.394495  0.311927\n"
     ]
    }
   ],
   "source": [
    "total_clicks_day = pd.DataFrame()\n",
    "total_clicks_day['day'] = a_clicks_pivot.day\n",
    "total_clicks_day['A'] = a_clicks_pivot.percent_clicked\n",
    "total_clicks_day['B'] = b_clicks_pivot.percent_clicked\n",
    "print(total_clicks_day)"
   ]
  },
  {
   "cell_type": "markdown",
   "metadata": {},
   "source": [
    "# Hypothesis Testing\n",
    "\n",
    "At this stage, it is desired to ensure that the difference between the conversion rates of A and B is not accidental and holds statistical significance for the conculsion.\n",
    "\n",
    "For this experiment, the \"Two-Sample T-test\" has been chosen as the appropriate statistical test due to its ability to compare the two independent groups (Ad A and Ad B) and assess them statistically.\n",
    "\n",
    "## Define Null and Alternative Hypothesis\n",
    "###    H0: There is no difference in the conversion rates of Ad A and Ad B.\n",
    "###    H1: Ad A has a better conversion rate compared to Ad B. \n",
    "\n",
    "Following the rule of thumb in scientific research, a significance level (alpha) of 0.05 is considered for conducting this hypothesis testing.\n",
    "\n"
   ]
  },
  {
   "cell_type": "code",
   "execution_count": 107,
   "metadata": {},
   "outputs": [
    {
     "name": "stdout",
     "output_type": "stream",
     "text": [
      "P-value is : 0.008064141433970693\n",
      "Ad A has a significantly better conversion rate than Ad B.\n"
     ]
    }
   ],
   "source": [
    "import scipy.stats as stats\n",
    "\n",
    "# Put the conversion rate data for Ad A and Ad B in separate objects\n",
    "conversion_rate_ad_a = total_clicks_day.A\n",
    "conversion_rate_ad_b = total_clicks_day.B\n",
    "\n",
    "# Perform the Two-Sample T-test\n",
    "t_statistic, p_value = stats.ttest_ind(conversion_rate_ad_a, conversion_rate_ad_b)\n",
    "\n",
    "# Check the p-value to determine statistical significance\n",
    "print('P-value is :', p_value)\n",
    "\n",
    "if p_value < 0.05:\n",
    "    print(\"Ad A has a significantly better conversion rate than Ad B.\")\n",
    "else:\n",
    "    print(\"There is no significant difference in the conversion rates of Ad A and Ad B.\")\n"
   ]
  },
  {
   "cell_type": "markdown",
   "metadata": {},
   "source": [
    "The DataFrame is being transposed then to prepare a visual representation of the conclusion of this experiment."
   ]
  },
  {
   "cell_type": "code",
   "execution_count": 90,
   "metadata": {},
   "outputs": [
    {
     "name": "stdout",
     "output_type": "stream",
     "text": [
      "              day experiment  percent_clicked\n",
      "0      1 - Monday          A         0.380531\n",
      "1     2 - Tuesday          A         0.361345\n",
      "2   3 - Wednesday          A         0.306452\n",
      "3    4 - Thursday          A         0.405172\n",
      "4      5 - Friday          A         0.398438\n",
      "5    6 - Saturday          A         0.381356\n",
      "6      7 - Sunday          A         0.394495\n",
      "7      1 - Monday          B         0.283186\n",
      "8     2 - Tuesday          B         0.378151\n",
      "9   3 - Wednesday          B         0.282258\n",
      "10   4 - Thursday          B         0.250000\n",
      "11     5 - Friday          B         0.296875\n",
      "12   6 - Saturday          B         0.355932\n",
      "13     7 - Sunday          B         0.311927\n"
     ]
    }
   ],
   "source": [
    "# Melt the DataFrame to transform the columns 'A' and 'B' into rows under the 'experiment' column\n",
    "transposed_df = pd.melt(total_clicks_day, id_vars=['day'], var_name='experiment', value_name='percent_clicked')\n",
    "\n",
    "# Display the transposed DataFrame\n",
    "print(transposed_df)"
   ]
  },
  {
   "cell_type": "code",
   "execution_count": 105,
   "metadata": {},
   "outputs": [
    {
     "data": {
      "image/png": "[encoded data removed]",
      "text/plain": [
       "<Figure size 792x432 with 1 Axes>"
      ]
     },
     "metadata": {
      "needs_background": "light"
     },
     "output_type": "display_data"
    },
    {
     "data": {
      "text/plain": [
       "<Figure size 432x288 with 0 Axes>"
      ]
     },
     "metadata": {},
     "output_type": "display_data"
    }
   ],
   "source": [
    "plt.figure(figsize=(11,6))\n",
    "sns.barplot(x = 'day', y = 'percent_clicked', hue = 'experiment', data = transposed_df)\n",
    "plt.xticks(rotation=45)\n",
    "plt.xlabel('Day of Week')\n",
    "plt.ylabel('Conversion Rate')\n",
    "plt.title('Conversion Rate for AB tests in Weekdays')\n",
    "plt.legend(loc='upper right')\n",
    "plt.show()\n",
    "plt.clf()"
   ]
  },
  {
   "cell_type": "markdown",
   "metadata": {},
   "source": [
    "## Conclusion\n",
    "\n",
    "According to our analysis and the visual representation of the plot, it is statistically significant and evident that users clicked on Ad A more frequently compared to Ad B on almost every day of the week, with the exception of Tuesday. In other words, Ad A received a higher number of clicks than Ad B throughout the majority of the week, indicating a stronger user engagement with Ad A in the marketing campaign. "
   ]
  }
 ],
 "metadata": {
  "kernelspec": {
   "display_name": "Python 3 (ipykernel)",
   "language": "python",
   "name": "python3"
  },
  "language_info": {
   "codemirror_mode": {
    "name": "ipython",
    "version": 3
   },
   "file_extension": ".py",
   "mimetype": "text/x-python",
   "name": "python",
   "nbconvert_exporter": "python",
   "pygments_lexer": "ipython3",
   "version": "3.9.12"
  }
 },
 "nbformat": 4,
 "nbformat_minor": 4
}
